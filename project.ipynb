{
  "nbformat": 4,
  "nbformat_minor": 0,
  "metadata": {
    "colab": {
      "name": "project.ipynb",
      "provenance": [],
      "collapsed_sections": []
    },
    "kernelspec": {
      "name": "python3",
      "display_name": "Python 3"
    },
    "language_info": {
      "name": "python"
    },
    "accelerator": "GPU"
  },
  "cells": [
    {
      "cell_type": "code",
      "metadata": {
        "id": "-7rx1rzqy25o",
        "colab": {
          "base_uri": "https://localhost:8080/"
        },
        "outputId": "b71aacc9-cb09-4643-878a-9153089f6cd0"
      },
      "source": [
        "import tensorflow as tf\n",
        "import numpy as np\n",
        "from google.colab import drive\n",
        "from sklearn.model_selection import train_test_split\n",
        "# import data\n",
        "drive.mount('/content/drive')\n",
        "with open('/content/drive/My Drive/ECE539/projectfinal/data.csv', 'r') as f: \n",
        "  data = np.genfromtxt(f, dtype='f4', delimiter=',')\n",
        "samplenum = 5000\n",
        "X = data[:samplenum,:-1]\n",
        "y = data[:samplenum,-1]\n",
        "print('# of samples = ', samplenum)\n",
        "# partition into train, validate, test set at 60/20/20 division\n",
        "X_train, X_test, y_train, y_test = train_test_split(X, y, train_size=0.6)\n",
        "X_test, X_val, y_test, y_val = train_test_split(X_test, y_test, test_size=0.5)\n",
        "TSSytest = np.sum((y_test - np.mean(y_test))**2)\n",
        "nytest = len(y_test)"
      ],
      "execution_count": 4,
      "outputs": [
        {
          "output_type": "stream",
          "name": "stdout",
          "text": [
            "Drive already mounted at /content/drive; to attempt to forcibly remount, call drive.mount(\"/content/drive\", force_remount=True).\n",
            "# of samples =  5000\n"
          ]
        }
      ]
    },
    {
      "cell_type": "markdown",
      "source": [
        "Performance test between the RELU and softplus for different units."
      ],
      "metadata": {
        "id": "_nFJdPrSOczw"
      }
    },
    {
      "cell_type": "code",
      "source": [
        "units = np.array([5, 10, 15, 20, 25, 30])\n",
        "MSError_relu = np.zeros(6)\n",
        "AdjustedR2_relu = np.zeros(6)\n",
        "for index, i in enumerate(units):\n",
        "  net = tf.keras.models.Sequential([\n",
        "    tf.keras.layers.Normalization(),\n",
        "    tf.keras.layers.Dense(i, input_dim=X.shape[1], activation = 'relu'),\n",
        "    tf.keras.layers.Dense(i, activation = 'relu'),\n",
        "    tf.keras.layers.Dense(1, activation='sigmoid')\n",
        "    ])\n",
        "  net.compile(loss='MeanSquaredError', optimizer='adam', metrics=['MeanSquaredError'])\n",
        "  history = net.fit(X_train, y_train, epochs=50, verbose=0, batch_size=50, validation_data=(X_val,y_val))\n",
        "  MSError_relu[index] = net.evaluate(X_test, y_test,verbose=0)[0]\n",
        "  AdjustedR2_relu[index] = 1 - (MSError_relu[index]*nytest/(nytest-X.shape[1]-1))/(TSSytest/(nytest-1))"
      ],
      "metadata": {
        "id": "pUldoibSlofO"
      },
      "execution_count": 16,
      "outputs": []
    },
    {
      "cell_type": "code",
      "source": [
        "MSError_softplus = np.zeros(6)\n",
        "AdjustedR2_softplus = np.zeros(6)\n",
        "for index, i in enumerate(units):\n",
        "  net = tf.keras.models.Sequential([\n",
        "    tf.keras.layers.Normalization(),\n",
        "    tf.keras.layers.Dense(i, input_dim=X.shape[1], activation = 'softplus'),\n",
        "    tf.keras.layers.Dense(i, activation = 'softplus'),\n",
        "    tf.keras.layers.Dense(1, activation='sigmoid')\n",
        "    ])\n",
        "  net.compile(loss='MeanSquaredError', optimizer='adam', metrics=['MeanSquaredError'])\n",
        "  history = net.fit(X_train, y_train, epochs=50, verbose=0, batch_size=50, validation_data=(X_val,y_val))\n",
        "  MSError_softplus[index] = net.evaluate(X_test, y_test,verbose=0)[0]\n",
        "  AdjustedR2_softplus[index] = 1 - (MSError_softplus[index]*nytest/(nytest-X.shape[1]-1))/(TSSytest/(nytest-1))"
      ],
      "metadata": {
        "id": "iuv7GnxagQh6"
      },
      "execution_count": 17,
      "outputs": []
    },
    {
      "cell_type": "code",
      "source": [
        "import matplotlib.pyplot as plt\n",
        "\n",
        "fig, axs = plt.subplots(2, 1)\n",
        "axs[0].plot(units, MSError_relu , label='ReLU')\n",
        "axs[0].plot(units, MSError_softplus , label='softplus')\n",
        "axs[0].set_xlabel('Units')\n",
        "axs[0].set_ylabel('Mean squared error')\n",
        "axs[0].legend()\n",
        "\n",
        "axs[1].plot(units, AdjustedR2_relu, label='RELU')\n",
        "axs[1].plot(units, AdjustedR2_softplus , label='softplus')\n",
        "axs[1].set_xlabel('Units')\n",
        "axs[1].set_ylabel('Adjusted R-squared')\n",
        "axs[1].legend()"
      ],
      "metadata": {
        "colab": {
          "base_uri": "https://localhost:8080/",
          "height": 296
        },
        "id": "tH4C3XKJjrGs",
        "outputId": "286fff58-fc3a-4b9c-dd5d-ced4e8c0f60c"
      },
      "execution_count": 22,
      "outputs": [
        {
          "output_type": "execute_result",
          "data": {
            "text/plain": [
              "<matplotlib.legend.Legend at 0x7f1ae5d92510>"
            ]
          },
          "metadata": {},
          "execution_count": 22
        },
        {
          "output_type": "display_data",
          "data": {
            "text/plain": [
              "<Figure size 432x288 with 2 Axes>"
            ],
            "image/png": "[encoded data removed]"
          },
          "metadata": {
            "needs_background": "light"
          }
        }
      ]
    },
    {
      "cell_type": "markdown",
      "source": [
        "Performance test at different epochs "
      ],
      "metadata": {
        "id": "FJmTeKslPtkD"
      }
    },
    {
      "cell_type": "code",
      "source": [
        "net = tf.keras.models.Sequential([\n",
        "  tf.keras.layers.Normalization(),\n",
        "  tf.keras.layers.Dense(10, input_dim=X.shape[1], activation = 'softplus'),\n",
        "  tf.keras.layers.Dense(10, activation = 'softplus'),\n",
        "  tf.keras.layers.Dense(1, activation='sigmoid')\n",
        "  ])\n",
        "net.compile(loss='MeanSquaredError', optimizer='adam', metrics=['MeanSquaredError'])\n",
        "history = net.fit(X_train, y_train, epochs=100, verbose=0, batch_size=50, validation_data=(X_val,y_val))"
      ],
      "metadata": {
        "id": "XrQEo7ihQfhv"
      },
      "execution_count": 38,
      "outputs": []
    },
    {
      "cell_type": "code",
      "source": [
        "plt.figure()\n",
        "plt.plot(range(1,101), history.history['val_loss'])\n",
        "plt.xlabel('Epochs')\n",
        "plt.ylabel('Loss of validation dataset')\n",
        "plt.show()"
      ],
      "metadata": {
        "colab": {
          "base_uri": "https://localhost:8080/",
          "height": 279
        },
        "id": "MsVJT-VkQrzr",
        "outputId": "2a907bf3-1cf0-4b89-c6b6-cbca6cf95201"
      },
      "execution_count": 39,
      "outputs": [
        {
          "output_type": "display_data",
          "data": {
            "text/plain": [
              "<Figure size 432x288 with 1 Axes>"
            ],
            "image/png": "[encoded data removed]"
          },
          "metadata": {
            "needs_background": "light"
          }
        }
      ]
    },
    {
      "cell_type": "markdown",
      "source": [
        "Performance test for different batch sizes"
      ],
      "metadata": {
        "id": "p_p6Qz8uSg3K"
      }
    },
    {
      "cell_type": "code",
      "source": [
        "batchsizes = np.array([10,20,50,100,200,500,1000])"
      ],
      "metadata": {
        "id": "VQQs6cWSSoKG"
      },
      "execution_count": 53,
      "outputs": []
    },
    {
      "cell_type": "code",
      "source": [
        "MSError = np.zeros(len(batchsizes))\n",
        "AdjustedR2 = np.zeros(len(batchsizes))\n",
        "for index, batchsize in enumerate(batchsizes):\n",
        "  net = tf.keras.models.Sequential([\n",
        "    tf.keras.layers.Normalization(),\n",
        "    tf.keras.layers.Dense(10, input_dim=X.shape[1], activation = 'softplus'),\n",
        "    tf.keras.layers.Dense(10, activation = 'softplus'),\n",
        "    tf.keras.layers.Dense(1, activation='sigmoid')\n",
        "    ])\n",
        "  net.compile(loss='MeanSquaredError', optimizer='adam', metrics=['MeanSquaredError'])\n",
        "  history = net.fit(X_train, y_train, epochs=50, verbose=0, batch_size=batchsize, validation_data=(X_val,y_val))\n",
        "  MSError[index] = net.evaluate(X_test, y_test,verbose=0)[0]\n",
        "  AdjustedR2[index] = 1 - (MSError[index]*nytest/(nytest-X.shape[1]-1))/(TSSytest/(nytest-1))"
      ],
      "metadata": {
        "id": "DQwKyJ0KSiTn"
      },
      "execution_count": 54,
      "outputs": []
    },
    {
      "cell_type": "code",
      "source": [
        "plt.figure()\n",
        "plt.plot(batchsizes, MSError)\n",
        "plt.xlabel('Batch size')\n",
        "plt.ylabel('Loss on test dataset')\n",
        "plt.xscale('log')\n",
        "plt.show()"
      ],
      "metadata": {
        "colab": {
          "base_uri": "https://localhost:8080/",
          "height": 283
        },
        "id": "OyZOHYC_TIhC",
        "outputId": "c95a160d-a3d2-4ed5-db4b-5425498a05f0"
      },
      "execution_count": 56,
      "outputs": [
        {
          "output_type": "display_data",
          "data": {
            "text/plain": [
              "<Figure size 432x288 with 1 Axes>"
            ],
            "image/png": "[encoded data removed]"
          },
          "metadata": {
            "needs_background": "light"
          }
        }
      ]
    },
    {
      "cell_type": "markdown",
      "source": [
        "Forward stepwise selection"
      ],
      "metadata": {
        "id": "dlWbLSwyTJQV"
      }
    },
    {
      "cell_type": "code",
      "source": [
        "MSError_F = np.ones((X.shape[1],X.shape[1]))*np.inf\n",
        "AdjustedR2_F = np.zeros((X.shape[1],X.shape[1]))\n",
        "\n",
        "for num in range(X.shape[1]):\n",
        "  # print('Now selecting the #',num,'significant feature.')\n",
        "  for nextfeature in range(X.shape[1]):\n",
        "    if nextfeature in np.argmin(MSError_F[:num,:],axis=1):\n",
        "      continue\n",
        "    net = tf.keras.models.Sequential([\n",
        "      tf.keras.layers.Normalization(),\n",
        "      tf.keras.layers.Dense(10, input_dim=num+1, activation = 'softplus'),\n",
        "      tf.keras.layers.Dense(10, activation = 'softplus'),\n",
        "      tf.keras.layers.Dense(1, activation='sigmoid')\n",
        "      ])\n",
        "    net.compile(loss='MeanSquaredError', optimizer='adam', metrics=['MeanSquaredError'])\n",
        "    feature = np.append(np.argmin(MSError_F[:num,:],axis=1),nextfeature)\n",
        "    history = net.fit(X_train[:,feature], y_train, epochs=50, verbose=0, batch_size=20, validation_data=(X_val[:,feature],y_val))\n",
        "    MSError_F[num,nextfeature] = net.evaluate(X_test[:,feature], y_test,verbose=0)[0]\n",
        "    # print('Feature', feature, '. MSError = ', MSError_F[num,nextfeature])\n",
        "    AdjustedR2_F[num,nextfeature] = 1 - (MSError_F[num,nextfeature]*nytest/(nytest-(num+1)-1))/(TSSytest/(nytest-1))\n",
        "  print('Feature', np.argmin(MSError_F[:num+1,:],axis=1),\n",
        "        'MSE =', MSError_F[num,np.argmin(MSError_F[num,:])],\n",
        "        'Adjusted R2 =', AdjustedR2_F[num,np.argmin(MSError_F[num,:])])"
      ],
      "metadata": {
        "colab": {
          "base_uri": "https://localhost:8080/"
        },
        "id": "2R3GKeamsI3y",
        "outputId": "f4726aac-e1cc-42e0-bf37-ebd4beb7b3ac"
      },
      "execution_count": 57,
      "outputs": [
        {
          "output_type": "stream",
          "name": "stdout",
          "text": [
            "Feature [2] MSE = 0.045251812785863876 Adjusted R2 = 0.6643344349957424\n",
            "Feature [2 0] MSE = 0.0016807373613119125 Adjusted R2 = 0.9875202453893585\n",
            "Feature [2 0 1] MSE = 0.0007861943449825048 Adjusted R2 = 0.9941565150844532\n",
            "Feature [2 0 1 8] MSE = 0.0003651450388133526 Adjusted R2 = 0.997283287546319\n",
            "Feature [ 2  0  1  8 10] MSE = 0.00037847989005967975 Adjusted R2 = 0.9971812421120818\n",
            "Feature [ 2  0  1  8 10  5] MSE = 0.0003611741994973272 Adjusted R2 = 0.9973074187300051\n",
            "Feature [ 2  0  1  8 10  5  9] MSE = 0.00032685542828403413 Adjusted R2 = 0.9975608114098898\n",
            "Feature [ 2  0  1  8 10  5  9  4] MSE = 0.00038439934724010527 Adjusted R2 = 0.997128489973372\n",
            "Feature [ 2  0  1  8 10  5  9  4  7] MSE = 0.000390618690289557 Adjusted R2 = 0.9970790832782201\n",
            "Feature [ 2  0  1  8 10  5  9  4  7  3] MSE = 0.0006344024441204965 Adjusted R2 = 0.9952513527890409\n",
            "Feature [ 2  0  1  8 10  5  9  4  7  3  6] MSE = 0.0007545322296209633 Adjusted R2 = 0.9943464374598736\n"
          ]
        }
      ]
    },
    {
      "cell_type": "markdown",
      "source": [
        "Backwise stepwise selection"
      ],
      "metadata": {
        "id": "KDreXL16TOX9"
      }
    },
    {
      "cell_type": "code",
      "source": [
        "MSError_B = np.ones((X.shape[1],X.shape[1]))*np.inf\n",
        "AdjustedR2_B = np.zeros((X.shape[1],X.shape[1]))\n",
        "\n",
        "for num in range(X.shape[1]-1):\n",
        "  # print('Now selecting the #',num,'least significant feature.')\n",
        "  for nextfeature in range(X.shape[1]):\n",
        "    if nextfeature in np.argmin(MSError_B[:num,:],axis=1):\n",
        "      continue\n",
        "    net = tf.keras.models.Sequential([\n",
        "      tf.keras.layers.Normalization(),\n",
        "      tf.keras.layers.Dense(10, input_dim=X.shape[1]-num-1, activation = 'softplus'),\n",
        "      tf.keras.layers.Dense(10, activation = 'softplus'),\n",
        "      tf.keras.layers.Dense(1, activation='sigmoid')\n",
        "      ])\n",
        "    net.compile(loss='MeanSquaredError', optimizer='adam', metrics=['MeanSquaredError'])\n",
        "    feature = np.array(list(set(range(X.shape[1]))-set(np.append(np.argmin(MSError_B[:num,:],axis=1),nextfeature))))\n",
        "    history = net.fit(X_train[:,feature], y_train, epochs=50, verbose=0, batch_size=20, validation_data=(X_val[:,feature],y_val))\n",
        "    MSError_B[num,nextfeature] = net.evaluate(X_test[:,feature], y_test,verbose=0)[0]\n",
        "    # print('Feature', feature, '. MSError = ', MSError_B[num,nextfeature])\n",
        "    AdjustedR2_B[num,nextfeature] = 1 - (MSError_B[num,nextfeature]*nytest/(nytest-(num+1)-1))/(TSSytest/(nytest-1))\n",
        "  print('Feature', np.argmin(MSError_B[:num+1,:],axis=1),\n",
        "        'MSE = ', MSError_B[num,np.argmin(MSError_B[num,:])],\n",
        "        'Adjusted R2 =', AdjustedR2_B[num,np.argmin(MSError_B[num,:])])"
      ],
      "metadata": {
        "colab": {
          "base_uri": "https://localhost:8080/"
        },
        "id": "1CDiLPClsI6M",
        "outputId": "ad034441-1254-4df6-b243-b1e056da5fe5"
      },
      "execution_count": 58,
      "outputs": [
        {
          "output_type": "stream",
          "name": "stdout",
          "text": [
            "Feature [3] MSE =  0.0003526184300426394 Adjusted R2 = 0.9973843729728292\n",
            "Feature [3 6] MSE =  0.0004356931312941015 Adjusted R2 = 0.9967649059934931\n",
            "Feature [3 6 5] MSE =  0.000381690013455227 Adjusted R2 = 0.9971630426366268\n",
            "Feature [ 3  6  5 10] MSE =  0.00028618425130844116 Adjusted R2 = 0.9978707630203503\n",
            "Feature [ 3  6  5 10  4] MSE =  0.0003958032466471195 Adjusted R2 = 0.9970522250908119\n",
            "Feature [ 3  6  5 10  4  8] MSE =  0.00029102343250997365 Adjusted R2 = 0.9978303980611112\n",
            "Feature [ 3  6  5 10  4  8  1] MSE =  0.00041841750498861074 Adjusted R2 = 0.9968775210207501\n",
            "Feature [ 3  6  5 10  4  8  1  9] MSE =  0.0008978143450804055 Adjusted R2 = 0.9932932172948294\n",
            "Feature [ 3  6  5 10  4  8  1  9  7] MSE =  0.00196855328977108 Adjusted R2 = 0.9852798128590702\n",
            "Feature [ 3  6  5 10  4  8  1  9  7  0] MSE =  0.045780692249536514 Adjusted R2 = 0.6573210608166435\n"
          ]
        }
      ]
    },
    {
      "cell_type": "code",
      "source": [
        "back1 = np.array(list(set(range(X.shape[1]))-set(np.argmin(MSError_B[:-1,:],axis=1))))\n",
        "for num in range(1,X.shape[1]):\n",
        "  print(num,'predictor(s)')\n",
        "  print('Forward:',np.argmin(MSError_F[:num,:],axis=1))\n",
        "  print('Backward:',np.concatenate((back1,np.flip(np.argmin(MSError_B[X.shape[1]-num:-1,:],axis=1)))))"
      ],
      "metadata": {
        "colab": {
          "base_uri": "https://localhost:8080/"
        },
        "id": "HtF4tnwdCxgl",
        "outputId": "59f856c0-e1f4-49bc-fc89-2db22d892d21"
      },
      "execution_count": 59,
      "outputs": [
        {
          "output_type": "stream",
          "name": "stdout",
          "text": [
            "1 predictor(s)\n",
            "Forward: [2]\n",
            "Backward: [2]\n",
            "2 predictor(s)\n",
            "Forward: [2 0]\n",
            "Backward: [2 0]\n",
            "3 predictor(s)\n",
            "Forward: [2 0 1]\n",
            "Backward: [2 0 7]\n",
            "4 predictor(s)\n",
            "Forward: [2 0 1 8]\n",
            "Backward: [2 0 7 9]\n",
            "5 predictor(s)\n",
            "Forward: [ 2  0  1  8 10]\n",
            "Backward: [2 0 7 9 1]\n",
            "6 predictor(s)\n",
            "Forward: [ 2  0  1  8 10  5]\n",
            "Backward: [2 0 7 9 1 8]\n",
            "7 predictor(s)\n",
            "Forward: [ 2  0  1  8 10  5  9]\n",
            "Backward: [2 0 7 9 1 8 4]\n",
            "8 predictor(s)\n",
            "Forward: [ 2  0  1  8 10  5  9  4]\n",
            "Backward: [ 2  0  7  9  1  8  4 10]\n",
            "9 predictor(s)\n",
            "Forward: [ 2  0  1  8 10  5  9  4  7]\n",
            "Backward: [ 2  0  7  9  1  8  4 10  5]\n",
            "10 predictor(s)\n",
            "Forward: [ 2  0  1  8 10  5  9  4  7  3]\n",
            "Backward: [ 2  0  7  9  1  8  4 10  5  6]\n"
          ]
        }
      ]
    },
    {
      "cell_type": "code",
      "source": [
        "net = tf.keras.models.Sequential([\n",
        "  tf.keras.layers.Normalization(),\n",
        "  tf.keras.layers.Dense(10, input_dim=X.shape[1], activation = 'softplus'),\n",
        "  tf.keras.layers.Dense(10, activation = 'softplus'),\n",
        "  tf.keras.layers.Dense(1, activation='sigmoid')\n",
        "  ])\n",
        "net.compile(loss='MeanSquaredError', optimizer='adam', metrics=['MeanSquaredError'])\n",
        "history = net.fit(X_train, y_train, epochs=50, verbose=0, batch_size=20, validation_data=(X_val,y_val))\n",
        "MSError_full = net.evaluate(X_test, y_test,verbose=0)[0]\n",
        "AdjustedR2_full = 1 - (MSError_full*nytest/(nytest-X.shape[1]-1))/(TSSytest/(nytest-1))"
      ],
      "metadata": {
        "id": "vzfJAciJfQ_h"
      },
      "execution_count": 70,
      "outputs": []
    },
    {
      "cell_type": "markdown",
      "source": [
        "Compare two forward and backward stepwise"
      ],
      "metadata": {
        "id": "y2cotdnAJyVu"
      }
    },
    {
      "cell_type": "markdown",
      "source": [
        "Plot mean squared error and adjusted R-squared versus number of predictors."
      ],
      "metadata": {
        "id": "J3RY5mAjwtHt"
      }
    },
    {
      "cell_type": "code",
      "source": [
        "MAMA = np.zeros((4,X.shape[1]))\n",
        "for num in range(X.shape[1]-1):\n",
        "  MAMA[0,num] = MSError_F[num,np.argmin(MSError_F[num,:])]\n",
        "  MAMA[1,num] = AdjustedR2_F[num,np.argmin(MSError_F[num,:])]\n",
        "  MAMA[2,num] = MSError_B[X.shape[1]-2-num,np.argmin(MSError_B[X.shape[1]-2-num,:])]\n",
        "  MAMA[3,num] = AdjustedR2_B[X.shape[1]-2-num,np.argmin(MSError_B[X.shape[1]-2-num,:])]\n",
        "MAMA[0,-1] = MSError_full\n",
        "MAMA[1,-1] = AdjustedR2_full\n",
        "MAMA[2,-1] = MSError_full\n",
        "MAMA[3,-1] = AdjustedR2_full"
      ],
      "metadata": {
        "id": "TYM3ulTkfcwr"
      },
      "execution_count": 71,
      "outputs": []
    },
    {
      "cell_type": "code",
      "source": [
        "import matplotlib.pyplot as plt\n",
        "\n",
        "fig, axs = plt.subplots(2, 1)\n",
        "axs[0].plot(list(range(1,X.shape[1]+1)), MAMA[0], label='Forward')\n",
        "axs[0].plot(list(range(1,X.shape[1]+1)), MAMA[2], label='Backward')\n",
        "axs[0].set_xlabel('Number of Predictors')\n",
        "axs[0].set_ylabel('Mean squared error')\n",
        "axs[0].legend()\n",
        "\n",
        "axs[1].plot(list(range(1,X.shape[1]+1)), MAMA[1], label='Forward')\n",
        "axs[1].plot(list(range(1,X.shape[1]+1)), MAMA[3], label='Backward')\n",
        "axs[1].set_xlabel('Number of Predictors')\n",
        "axs[1].set_ylabel('Adjusted R-squared')\n",
        "axs[1].legend()"
      ],
      "metadata": {
        "colab": {
          "base_uri": "https://localhost:8080/",
          "height": 296
        },
        "id": "uKttqoV-CHM4",
        "outputId": "e772f374-6a05-4979-e096-692513145618"
      },
      "execution_count": 72,
      "outputs": [
        {
          "output_type": "execute_result",
          "data": {
            "text/plain": [
              "<matplotlib.legend.Legend at 0x7f1afaaebfd0>"
            ]
          },
          "metadata": {},
          "execution_count": 72
        },
        {
          "output_type": "display_data",
          "data": {
            "text/plain": [
              "<Figure size 432x288 with 2 Axes>"
            ],
            "image/png": "[encoded data removed]"
          },
          "metadata": {
            "needs_background": "light"
          }
        }
      ]
    },
    {
      "cell_type": "code",
      "source": [
        "fig, axs = plt.subplots(2, 1)\n",
        "axs[0].plot(list(range(1,X.shape[1]+1)), MAMA[0], label='Forward')\n",
        "axs[0].plot(list(range(1,X.shape[1]+1)), MAMA[2], label='Backward')\n",
        "axs[0].set_xlabel('Number of Predictors')\n",
        "axs[0].set_ylabel('Mean squared error')\n",
        "axs[0].set_ylim(0,0.001)\n",
        "axs[0].legend()\n",
        "\n",
        "axs[1].plot(list(range(1,X.shape[1]+1)), MAMA[1], label='Forward')\n",
        "axs[1].plot(list(range(1,X.shape[1]+1)), MAMA[3], label='Backward')\n",
        "axs[1].set_xlabel('Number of Predictors')\n",
        "axs[1].set_ylabel('Adjusted R-squared')\n",
        "axs[1].set_ylim(0.99,1)\n",
        "axs[1].legend()"
      ],
      "metadata": {
        "colab": {
          "base_uri": "https://localhost:8080/",
          "height": 300
        },
        "id": "RzSNsOzfW-kx",
        "outputId": "b1239e2d-715b-4744-f334-815f39a09bf2"
      },
      "execution_count": 73,
      "outputs": [
        {
          "output_type": "execute_result",
          "data": {
            "text/plain": [
              "<matplotlib.legend.Legend at 0x7f1aebb56810>"
            ]
          },
          "metadata": {},
          "execution_count": 73
        },
        {
          "output_type": "display_data",
          "data": {
            "text/plain": [
              "<Figure size 432x288 with 2 Axes>"
            ],
            "image/png": "[encoded data removed]"
          },
          "metadata": {
            "needs_background": "light"
          }
        }
      ]
    },
    {
      "cell_type": "markdown",
      "source": [
        "For small number of predictors, the forward stepwise selection has better performance than the backward stepwise selection, with smaller mean squared error and larger adjusted R-squared."
      ],
      "metadata": {
        "id": "NZwwm6gUuQpW"
      }
    },
    {
      "cell_type": "code",
      "source": [
        "print('In the forward stepwise selection,',np.argmax(MAMA[1,:])+1,\n",
        "      'predictors lead to largest value of adjusted R-squared, which is',MAMA[1,np.argmax(MAMA[1,:])])\n",
        "print('The features are',np.argmin(MSError_F[:np.argmax(MAMA[1,:])+1,:],axis=1))"
      ],
      "metadata": {
        "colab": {
          "base_uri": "https://localhost:8080/"
        },
        "id": "dZAmm266KpjG",
        "outputId": "71438d1b-c14f-40b2-fd02-e00bb80b1bec"
      },
      "execution_count": 75,
      "outputs": [
        {
          "output_type": "stream",
          "name": "stdout",
          "text": [
            "In the forward stepwise selection, 7 predictors lead to largest value of adjusted R-squared, which is 0.9975608114098898\n",
            "The features are [ 2  0  1  8 10  5  9]\n"
          ]
        }
      ]
    },
    {
      "cell_type": "code",
      "source": [
        ""
      ],
      "metadata": {
        "id": "3zP5BLcPf7CS"
      },
      "execution_count": null,
      "outputs": []
    }
  ]
}