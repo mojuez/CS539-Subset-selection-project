{
  "nbformat": 4,
  "nbformat_minor": 0,
  "metadata": {
    "colab": {
      "name": "project.ipynb",
      "provenance": [],
      "collapsed_sections": []
    },
    "kernelspec": {
      "name": "python3",
      "display_name": "Python 3"
    },
    "language_info": {
      "name": "python"
    },
    "accelerator": "GPU"
  },
  "cells": [
    {
      "cell_type": "code",
      "metadata": {
        "id": "-7rx1rzqy25o",
        "colab": {
          "base_uri": "https://localhost:8080/"
        },
        "outputId": "03aba923-94fe-4db9-fa89-f13790444845"
      },
      "source": [
        "import tensorflow as tf\n",
        "import numpy as np\n",
        "from google.colab import drive\n",
        "from sklearn.model_selection import train_test_split\n",
        "# import data\n",
        "drive.mount('/content/drive')\n",
        "with open('/content/drive/My Drive/Colab Notebooks/projects/data.csv', 'r') as f: \n",
        "  data = np.genfromtxt(f, dtype='f4', delimiter=',')\n",
        "samplenum = 5000\n",
        "X = data[:samplenum,:-1]\n",
        "y = data[:samplenum,-1]\n",
        "print('# of samples = ', samplenum)\n",
        "# partition into train, validate, test set at 60/20/20 division\n",
        "X_train, X_test, y_train, y_test = train_test_split(X, y, train_size=0.6)\n",
        "X_test, X_val, y_test, y_val = train_test_split(X_test, y_test, test_size=0.5)\n",
        "TSSytest = np.sum((y_test - np.mean(y_test))**2)\n",
        "nytest = len(y_test)"
      ],
      "execution_count": null,
      "outputs": [
        {
          "output_type": "stream",
          "name": "stdout",
          "text": [
            "Mounted at /content/drive\n",
            "# of samples =  5000\n"
          ]
        }
      ]
    },
    {
      "cell_type": "code",
      "source": [
        "MSError = np.zeros(6)\n",
        "AdjustedR2 = np.zeros(6)\n",
        "for index, i in enumerate(np.array([5, 10, 15, 20, 25, 30])):\n",
        "  net = tf.keras.models.Sequential([\n",
        "    tf.keras.layers.Normalization(),\n",
        "    tf.keras.layers.Dense(i, input_dim=X.shape[1], activation = 'relu'),\n",
        "    tf.keras.layers.Dense(i, activation = 'relu'),\n",
        "    tf.keras.layers.Dense(1, activation='sigmoid')\n",
        "    ])\n",
        "  net.compile(loss='MeanSquaredError', optimizer='adam', metrics=['MeanSquaredError'])\n",
        "  history = net.fit(X_train, y_train, epochs=50, verbose=0, batch_size=50, validation_data=(X_val,y_val))\n",
        "  MSError[index] = net.evaluate(X_test, y_test,verbose=0)[0]\n",
        "  AdjustedR2[index] = 1 - (MSError[index]*nytest/(nytest-X.shape[1]-1))/(TSSytest/(nytest-1))"
      ],
      "metadata": {
        "id": "pUldoibSlofO"
      },
      "execution_count": null,
      "outputs": []
    },
    {
      "cell_type": "code",
      "source": [
        "import matplotlib.pyplot as plt\n",
        "\n",
        "fig, axs = plt.subplots(2, 1)\n",
        "axs[0].plot(np.array([5, 10, 15, 20, 25, 30]), MSError , label='MSError')\n",
        "axs[0].plot(np.array([5, 10, 15, 20, 25, 30]), MSError , label='MSError')\n",
        "axs[0].set_xlabel('Units')\n",
        "axs[0].set_ylabel('Mean squared error')\n",
        "axs[0].legend()\n",
        "\n",
        "axs[1].plot(np.array([5, 10, 15, 20, 25, 30]), MSError , label='Adjusted R-squared')\n",
        "axs[1].set_xlabel('Units')\n",
        "axs[1].set_ylabel('Adjusted R-squared')\n",
        "axs[1].legend()"
      ],
      "metadata": {
        "colab": {
          "base_uri": "https://localhost:8080/",
          "height": 296
        },
        "id": "pKfMckEIlopL",
        "outputId": "0afb4a1d-8e32-416b-d93c-4b464e525941"
      },
      "execution_count": null,
      "outputs": [
        {
          "output_type": "execute_result",
          "data": {
            "text/plain": [
              "<matplotlib.legend.Legend at 0x7faaf47c0590>"
            ]
          },
          "metadata": {},
          "execution_count": 13
        },
        {
          "output_type": "display_data",
          "data": {
            "text/plain": [
              "<Figure size 432x288 with 2 Axes>"
            ],
            "image/png": "[encoded data removed]"
          },
          "metadata": {
            "needs_background": "light"
          }
        }
      ]
    },
    {
      "cell_type": "markdown",
      "source": [
        "All features"
      ],
      "metadata": {
        "id": "CAMDcmmqTk7T"
      }
    },
    {
      "cell_type": "code",
      "source": [
        "MSError = np.zeros(6)\n",
        "AdjustedR2 = np.zeros(6)\n",
        "for index, i in enumerate(np.array([5, 10, 15, 20, 25, 30])):\n",
        "  net = tf.keras.models.Sequential([\n",
        "    tf.keras.layers.Normalization(),\n",
        "    tf.keras.layers.Dense(i, input_dim=X.shape[1], activation = 'softplus'),\n",
        "    tf.keras.layers.Dense(i, activation = 'softplus'),\n",
        "    tf.keras.layers.Dense(1, activation='sigmoid')\n",
        "    ])\n",
        "  net.compile(loss='MeanSquaredError', optimizer='adam', metrics=['MeanSquaredError'])\n",
        "  history = net.fit(X_train, y_train, epochs=50, verbose=0, batch_size=50, validation_data=(X_val,y_val))\n",
        "  MSError[index] = net.evaluate(X_test, y_test,verbose=0)[0]\n",
        "  AdjustedR2[index] = 1 - (MSError[index]*nytest/(nytest-X.shape[1]-1))/(TSSytest/(nytest-1))\n"
      ],
      "metadata": {
        "id": "iuv7GnxagQh6"
      },
      "execution_count": null,
      "outputs": []
    },
    {
      "cell_type": "code",
      "source": [
        "import matplotlib.pyplot as plt\n",
        "\n",
        "fig, axs = plt.subplots(2, 1)\n",
        "axs[0].plot(np.array([5, 10, 15, 20, 25, 30]), MSError , label='RELU')\n",
        "axs[0].plot(np.array([5, 10, 15, 20, 25, 30]), np.array([0.00817239, 0.00201184, 0.00037045, 0.00045527, 0.00031929,\n",
        "       0.00032971]) , label='softplus')\n",
        "axs[0].set_xlabel('Units')\n",
        "axs[0].set_ylabel('Mean squared error')\n",
        "axs[0].legend()\n",
        "\n",
        "axs[1].plot(np.array([5, 10, 15, 20, 25, 30]), AdjustedR2 , label='RELU')\n",
        "axs[1].plot(np.array([5, 10, 15, 20, 25, 30]), np.array([0.93723382, 0.98454852, 0.99715483, 0.99650343, 0.99754778,\n",
        "       0.99746771]) , label='softplus')\n",
        "axs[1].set_xlabel('Units')\n",
        "axs[1].set_ylabel('Adjusted R-squared')\n",
        "axs[1].legend()"
      ],
      "metadata": {
        "colab": {
          "base_uri": "https://localhost:8080/",
          "height": 296
        },
        "id": "tH4C3XKJjrGs",
        "outputId": "98f3c1a6-d89e-4a44-a6eb-c7d5e7b89a30"
      },
      "execution_count": null,
      "outputs": [
        {
          "output_type": "execute_result",
          "data": {
            "text/plain": [
              "<matplotlib.legend.Legend at 0x7fab72e0b5d0>"
            ]
          },
          "metadata": {},
          "execution_count": 16
        },
        {
          "output_type": "display_data",
          "data": {
            "text/plain": [
              "<Figure size 432x288 with 2 Axes>"
            ],
            "image/png": "[encoded data removed]"
          },
          "metadata": {
            "needs_background": "light"
          }
        }
      ]
    },
    {
      "cell_type": "code",
      "source": [
        "np.savetxt('/content/drive/My Drive/Colab Notebooks/projects/MSError_1.csv', MSError, delimiter=\",\")\n",
        "np.savetxt('/content/drive/My Drive/Colab Notebooks/projects/AdjustedR2_1.csv', AdjustedR2, delimiter=\",\")"
      ],
      "metadata": {
        "id": "-v2JUsotmB9v"
      },
      "execution_count": null,
      "outputs": []
    },
    {
      "cell_type": "code",
      "source": [
        "MSError"
      ],
      "metadata": {
        "colab": {
          "base_uri": "https://localhost:8080/"
        },
        "id": "pYO0BzrxjrRL",
        "outputId": "b953cc12-ca6f-41af-e6c2-a911a0c42796"
      },
      "execution_count": null,
      "outputs": [
        {
          "output_type": "execute_result",
          "data": {
            "text/plain": [
              "array([0.00817239, 0.00201184, 0.00037045, 0.00045527, 0.00031929,\n",
              "       0.00032971])"
            ]
          },
          "metadata": {},
          "execution_count": 8
        }
      ]
    },
    {
      "cell_type": "code",
      "source": [
        "AdjustedR2"
      ],
      "metadata": {
        "colab": {
          "base_uri": "https://localhost:8080/"
        },
        "id": "cwgU2doAlyDO",
        "outputId": "9c830975-ece7-428d-e10d-f277440c1241"
      },
      "execution_count": null,
      "outputs": [
        {
          "output_type": "execute_result",
          "data": {
            "text/plain": [
              "array([0.93723382, 0.98454852, 0.99715483, 0.99650343, 0.99754778,\n",
              "       0.99746771])"
            ]
          },
          "metadata": {},
          "execution_count": 9
        }
      ]
    },
    {
      "cell_type": "code",
      "metadata": {
        "id": "-Gl_maSSyrgl",
        "colab": {
          "base_uri": "https://localhost:8080/"
        },
        "outputId": "f4c2ecb0-04dc-46c1-8286-a412e73310c5"
      },
      "source": [
        "net = tf.keras.models.Sequential([\n",
        "    tf.keras.layers.Normalization(),\n",
        "    tf.keras.layers.Dense(10, input_dim=X.shape[1], activation = 'softplus'),\n",
        "    tf.keras.layers.Dense(10, activation = 'softplus'),\n",
        "    tf.keras.layers.Dense(1, activation='sigmoid')\n",
        "    ])\n",
        "net.compile(loss='MeanSquaredError', optimizer='adam', metrics=['MeanSquaredError'])\n",
        "history = net.fit(X_train, y_train, epochs=50, verbose=0, batch_size=50, validation_data=(X_val,y_val))\n",
        "MSError = net.evaluate(X_test, y_test,verbose=0)[0]\n",
        "AdjustedR2 = 1 - (MSError*nytest/(nytest-X.shape[1]-1))/(TSSytest/(nytest-1))\n",
        "print('MSError =', MSError)\n",
        "print('Adjusted R2=', AdjustedR2)"
      ],
      "execution_count": null,
      "outputs": [
        {
          "output_type": "stream",
          "name": "stdout",
          "text": [
            "MSError = 0.001311713014729321\n",
            "Adjusted R2= 0.9899256808334489\n"
          ]
        }
      ]
    },
    {
      "cell_type": "markdown",
      "source": [
        "Subset selection: Forward stepwise selection\n",
        "\n"
      ],
      "metadata": {
        "id": "yEVDliQ_sWF2"
      }
    },
    {
      "cell_type": "code",
      "source": [
        "MSError_F = np.ones((X.shape[1],X.shape[1],6))*np.inf\n",
        "AdjustedR2_F = np.zeros((X.shape[1],X.shape[1],6))\n",
        "\n",
        "for num in range(X.shape[1]):\n",
        "  # print('Now selecting the #',num,'significant feature.')\n",
        "  for nextfeature in range(X.shape[1]):\n",
        "    if nextfeature in np.argmin(MSError_F[:num],axis=1):\n",
        "      continue\n",
        "    net = tf.keras.models.Sequential([\n",
        "      tf.keras.layers.Normalization(),\n",
        "      tf.keras.layers.Dense(10, input_dim=num+1, activation = 'softplus'),\n",
        "      tf.keras.layers.Dense(10, activation = 'softplus'),\n",
        "      tf.keras.layers.Dense(1, activation='sigmoid')\n",
        "      ])\n",
        "    net.compile(loss='MeanSquaredError', optimizer='adam', metrics=['MeanSquaredError'])\n",
        "    feature = np.append(np.argmin(MSError_F[:num,:],axis=1),nextfeature)\n",
        "\n",
        "    for e, size in enumerate(np.array([2, 5, 10, 25, 50])):\n",
        "      history = net.fit(X_train[:,feature], y_train, epochs= 30, verbose=0, batch_size=size, validation_data=(X_val[:,feature],y_val))\n",
        "\n",
        "      MSError_F[num,nextfeature,e] = net.evaluate(X_test[:,feature], y_test,verbose=0)[0]\n",
        "      \n",
        "      # print('Feature', feature, '. MSError = ', MSError_F[num,nextfeature])\n",
        "      AdjustedR2_F[num,nextfeature,e] = 1 - (MSError_F[num,nextfeature,e]*nytest/(nytest-(num+1)-1))/(TSSytest/(nytest-1))\n",
        "  # print('Feature', np.argmin(MSError_F[:num+1,:],axis=1),\n",
        "  #       'MSE =', MSError_F[num,np.argmin(MSError_F[num,:])],\n",
        "  #       'Adjusted R2 =', AdjustedR2_F[num,np.argmin(MSError_F[num,:])])"
      ],
      "metadata": {
        "id": "PQY4UBQEsIy9"
      },
      "execution_count": null,
      "outputs": []
    },
    {
      "cell_type": "code",
      "source": [
        "import matplotlib.pyplot as plt\n",
        "\n",
        "fig, axs = plt.subplots(2, 1)\n",
        "axs[0].plot(np.array([2, 5, 10, 25, 50]), MSError_F[0,0,:] , label='Feature')\n",
        "axs[0].set_xlabel('Epochs')\n",
        "axs[0].set_ylabel('Mean squared error')\n",
        "axs[0].legend()\n",
        "\n",
        "axs[1].plot(np.array([2, 5, 10, 25, 50]), AdjustedR2_F[0,0,:] , label='Feature')\n",
        "\n",
        "axs[1].set_xlabel('Epochs')\n",
        "axs[1].set_ylabel('Adjusted R-squared')\n",
        "axs[1].legend()"
      ],
      "metadata": {
        "id": "Fg1aSJqOFKh6"
      },
      "execution_count": null,
      "outputs": []
    },
    {
      "cell_type": "code",
      "source": [
        "import matplotlib.pyplot as plt\n",
        "\n",
        "fig, axs = plt.subplots(2, 1)\n",
        "axs[0].plot(np.array([2, 5, 10, 20, 30, 50]), MSError_F[0,0,:] , label='Feature')\n",
        "axs[0].set_xlabel('Epochs')\n",
        "axs[0].set_ylabel('Mean squared error')\n",
        "axs[0].legend()\n",
        "\n",
        "axs[1].plot(np.array([2, 5, 10, 20, 30, 50]), AdjustedR2_F[0,0,:] , label='Feature')\n",
        "\n",
        "axs[1].set_xlabel('Epochs')\n",
        "axs[1].set_ylabel('Adjusted R-squared')\n",
        "axs[1].legend()"
      ],
      "metadata": {
        "colab": {
          "base_uri": "https://localhost:8080/",
          "height": 296
        },
        "id": "zJldSm_ksI1S",
        "outputId": "6bd8e841-b686-4f4a-b1a1-8244b938c43f"
      },
      "execution_count": null,
      "outputs": [
        {
          "output_type": "execute_result",
          "data": {
            "text/plain": [
              "<matplotlib.legend.Legend at 0x7f0d0f2d43d0>"
            ]
          },
          "metadata": {},
          "execution_count": 7
        },
        {
          "output_type": "display_data",
          "data": {
            "text/plain": [
              "<Figure size 432x288 with 2 Axes>"
            ],
            "image/png": "[encoded data removed]"
          },
          "metadata": {
            "needs_background": "light"
          }
        }
      ]
    },
    {
      "cell_type": "code",
      "source": [
        "MSError_F = np.ones((X.shape[1],X.shape[1]))*np.inf\n",
        "AdjustedR2_F = np.zeros((X.shape[1],X.shape[1]))\n",
        "\n",
        "for num in range(X.shape[1]):\n",
        "  # print('Now selecting the #',num,'significant feature.')\n",
        "  for nextfeature in range(X.shape[1]):\n",
        "    if nextfeature in np.argmin(MSError_F[:num,:],axis=1):\n",
        "      continue\n",
        "    net = tf.keras.models.Sequential([\n",
        "      tf.keras.layers.Normalization(),\n",
        "      tf.keras.layers.Dense(20, input_dim=num+1, activation = 'softplus'),\n",
        "      tf.keras.layers.Dense(20, activation = 'softplus'),\n",
        "      tf.keras.layers.Dense(1, activation='sigmoid')\n",
        "      ])\n",
        "    net.compile(loss='MeanSquaredError', optimizer='adam', metrics=['MeanSquaredError'])\n",
        "    feature = np.append(np.argmin(MSError_F[:num,:],axis=1),nextfeature)\n",
        "    history = net.fit(X_train[:,feature], y_train, epochs=50, verbose=0, batch_size=50, validation_data=(X_val[:,feature],y_val))\n",
        "    MSError_F[num,nextfeature] = net.evaluate(X_test[:,feature], y_test,verbose=0)[0]\n",
        "    # print('Feature', feature, '. MSError = ', MSError_F[num,nextfeature])\n",
        "    AdjustedR2_F[num,nextfeature] = 1 - (MSError_F[num,nextfeature]*nytest/(nytest-(num+1)-1))/(TSSytest/(nytest-1))\n",
        "  print('Feature', np.argmin(MSError_F[:num+1,:],axis=1),\n",
        "        'MSE =', MSError_F[num,np.argmin(MSError_F[num,:])],\n",
        "        'Adjusted R2 =', AdjustedR2_F[num,np.argmin(MSError_F[num,:])])"
      ],
      "metadata": {
        "colab": {
          "base_uri": "https://localhost:8080/"
        },
        "id": "2R3GKeamsI3y",
        "outputId": "3a6539e8-505c-4484-94b1-6c42f4baaaab"
      },
      "execution_count": null,
      "outputs": [
        {
          "output_type": "stream",
          "name": "stdout",
          "text": [
            "Feature [2] MSE = 0.037849608808755875 Adjusted R2 = 0.7283097340256384\n",
            "Feature [2 0] MSE = 0.0018246930558234453 Adjusted R2 = 0.9868889375518641\n",
            "Feature [2 0 7] MSE = 0.0006380907143466175 Adjusted R2 = 0.995410490097261\n",
            "Feature [2 0 7 3] MSE = 0.0004439342301338911 Adjusted R2 = 0.996803764451591\n",
            "Feature [2 0 7 3 9] MSE = 0.00031785049941390753 Adjusted R2 = 0.9977092392212934\n",
            "Feature [ 2  0  7  3  9 10] MSE = 0.00035334820859134197 Adjusted R2 = 0.9974508413195062\n",
            "Feature [ 2  0  7  3  9 10  8] MSE = 0.00031617580680176616 Adjusted R2 = 0.9977167146598904\n",
            "Feature [ 2  0  7  3  9 10  8  6] MSE = 0.0003061263123527169 Adjusted R2 = 0.9977870569860798\n",
            "Feature [ 2  0  7  3  9 10  8  6  1] MSE = 0.00037726672599092126 Adjusted R2 = 0.9972700384294414\n",
            "Feature [ 2  0  7  3  9 10  8  6  1  4] MSE = 0.00034001070889644325 Adjusted R2 = 0.997537141112736\n",
            "Feature [ 2  0  7  3  9 10  8  6  1  4  5] MSE = 0.001453856471925974 Adjusted R2 = 0.9894583688929964\n"
          ]
        }
      ]
    },
    {
      "cell_type": "code",
      "source": [
        "MSError_B = np.ones((X.shape[1],X.shape[1]))*np.inf\n",
        "AdjustedR2_B = np.zeros((X.shape[1],X.shape[1]))\n",
        "\n",
        "for num in range(X.shape[1]-1):\n",
        "  # print('Now selecting the #',num,'least significant feature.')\n",
        "  for nextfeature in range(X.shape[1]):\n",
        "    if nextfeature in np.argmin(MSError_B[:num,:],axis=1):\n",
        "      continue\n",
        "    net = tf.keras.models.Sequential([\n",
        "      tf.keras.layers.Normalization(),\n",
        "      tf.keras.layers.Dense(20, input_dim=X.shape[1]-num-1, activation = 'softplus'),\n",
        "      tf.keras.layers.Dense(20, activation = 'softplus'),\n",
        "      tf.keras.layers.Dense(1, activation='sigmoid')\n",
        "      ])\n",
        "    net.compile(loss='MeanSquaredError', optimizer='adam', metrics=['MeanSquaredError'])\n",
        "    feature = np.array(list(set(range(X.shape[1]))-set(np.append(np.argmin(MSError_B[:num,:],axis=1),nextfeature))))\n",
        "    history = net.fit(X_train[:,feature], y_train, epochs=50, verbose=0, batch_size=50, validation_data=(X_val[:,feature],y_val))\n",
        "    MSError_B[num,nextfeature] = net.evaluate(X_test[:,feature], y_test,verbose=0)[0]\n",
        "    # print('Feature', feature, '. MSError = ', MSError_B[num,nextfeature])\n",
        "    AdjustedR2_B[num,nextfeature] = 1 - (MSError_B[num,nextfeature]*nytest/(nytest-(num+1)-1))/(TSSytest/(nytest-1))\n",
        "  print('Feature', np.argmin(MSError_B[:num+1,:],axis=1),\n",
        "        'MSE = ', MSError_B[num,np.argmin(MSError_B[num,:])],\n",
        "        'Adjusted R2 =', AdjustedR2_B[num,np.argmin(MSError_B[num,:])])"
      ],
      "metadata": {
        "colab": {
          "base_uri": "https://localhost:8080/"
        },
        "id": "1CDiLPClsI6M",
        "outputId": "38482b2c-3993-4bb3-9b10-033a78ae8f0f"
      },
      "execution_count": null,
      "outputs": [
        {
          "output_type": "stream",
          "name": "stdout",
          "text": [
            "Feature [6] MSE =  0.0002873082412406802 Adjusted R2 = 0.9979376576155987\n",
            "Feature [6 8] MSE =  0.0002802487288136035 Adjusted R2 = 0.9979863141514353\n",
            "Feature [6 8 5] MSE =  0.0003965339856222272 Adjusted R2 = 0.9971479029346959\n",
            "Feature [6 8 5 3] MSE =  0.0003002159937750548 Adjusted R2 = 0.9978385063228502\n",
            "Feature [6 8 5 3 7] MSE =  0.0004533961764536798 Adjusted R2 = 0.9967323563116912\n",
            "Feature [ 6  8  5  3  7 10] MSE =  0.000399084878154099 Adjusted R2 = 0.9971208834326456\n",
            "Feature [ 6  8  5  3  7 10  4] MSE =  0.0003959239984396845 Adjusted R2 = 0.9971408076077064\n",
            "Feature [ 6  8  5  3  7 10  4  9] MSE =  0.0006533480482175946 Adjusted R2 = 0.9952770410754642\n",
            "Feature [ 6  8  5  3  7 10  4  9  1] MSE =  0.001442454056814313 Adjusted R2 = 0.989562174792764\n",
            "Feature [ 6  8  5  3  7 10  4  9  1  0] MSE =  0.03766411915421486 Adjusted R2 = 0.7271809147100037\n"
          ]
        }
      ]
    },
    {
      "cell_type": "code",
      "source": [
        "MSError_F = np.ones((X.shape[1],X.shape[1]))*np.inf\n",
        "AdjustedR2_F = np.zeros((X.shape[1],X.shape[1]))\n",
        "\n",
        "for num in range(X.shape[1]):\n",
        "  # print('Now selecting the #',num,'significant feature.')\n",
        "  for nextfeature in range(X.shape[1]):\n",
        "    if nextfeature in np.argmin(MSError_F[:num,:],axis=1):\n",
        "      continue\n",
        "    net = tf.keras.models.Sequential([\n",
        "      tf.keras.layers.Normalization(),\n",
        "      tf.keras.layers.Dense(20, input_dim=num+1, activation = 'softplus'),\n",
        "      tf.keras.layers.Dense(20, activation = 'softplus'),\n",
        "      tf.keras.layers.Dense(1, activation='sigmoid')\n",
        "      ])\n",
        "    net.compile(loss='MeanSquaredError', optimizer='adam', metrics=['MeanSquaredError'])\n",
        "    feature = np.append(np.argmin(MSError_F[:num,:],axis=1),nextfeature)\n",
        "    history = net.fit(X_train[:,feature], y_train, epochs=50, verbose=0, batch_size=50, validation_data=(X_val[:,feature],y_val))\n",
        "    MSError_F[num,nextfeature] = net.evaluate(X_test[:,feature], y_test,verbose=0)[0]\n",
        "    # print('Feature', feature, '. MSError = ', MSError_F[num,nextfeature])\n",
        "    AdjustedR2_F[num,nextfeature] = 1 - (MSError_F[num,nextfeature]*nytest/(nytest-(num+1)-1))/(TSSytest/(nytest-1))\n",
        "  print('Feature', np.argmin(MSError_F[:num+1,:],axis=1),\n",
        "        'MSE =', MSError_F[num,np.argmin(MSError_F[num,:])],\n",
        "        'Adjusted R2 =', AdjustedR2_F[num,np.argmin(MSError_F[num,:])])"
      ],
      "metadata": {
        "colab": {
          "base_uri": "https://localhost:8080/"
        },
        "id": "n4b44lBeg-qV",
        "outputId": "b5c0a6e3-0a2f-422d-a578-0c65829bdd6c"
      },
      "execution_count": null,
      "outputs": [
        {
          "output_type": "stream",
          "name": "stdout",
          "text": [
            "Feature [2] MSE = 0.04240180924534798 Adjusted R2 = 0.5877010053829937\n",
            "Feature [2 0] MSE = 0.006540941074490547 Adjusted R2 = 0.9363345947932329\n",
            "Feature [2 0 1] MSE = 0.0007550938753411174 Adjusted R2 = 0.9926430121571269\n",
            "Feature [2 0 1 8] MSE = 0.0005856649950146675 Adjusted R2 = 0.9942880471272133\n",
            "Feature [2 0 1 8 5] MSE = 0.0006280964589677751 Adjusted R2 = 0.9938680530388351\n",
            "Feature [ 2  0  1  8  5 10] MSE = 0.0006618701736442745 Adjusted R2 = 0.9935318215778818\n",
            "Feature [ 2  0  1  8  5 10  7] MSE = 0.0006155699375085533 Adjusted R2 = 0.9939782300641414\n",
            "Feature [ 2  0  1  8  5 10  7  4] MSE = 0.0006568334065377712 Adjusted R2 = 0.9935680892783237\n",
            "Feature [ 2  0  1  8  5 10  7  4  6] MSE = 0.000670551264192909 Adjusted R2 = 0.9934271273150888\n",
            "Feature [ 2  0  1  8  5 10  7  4  6  9] MSE = 0.0012552320258691907 Adjusted R2 = 0.9876835329644889\n",
            "Feature [ 2  0  1  8  5 10  7  4  6  9  3] MSE = 0.0015298936050385237 Adjusted R2 = 0.9849733312163297\n"
          ]
        }
      ]
    },
    {
      "cell_type": "markdown",
      "source": [
        "Subset selection: Backward stepwise selection"
      ],
      "metadata": {
        "id": "MPh4DzIAueYy"
      }
    },
    {
      "cell_type": "code",
      "source": [
        "MSError_B = np.ones((X.shape[1],X.shape[1]))*np.inf\n",
        "AdjustedR2_B = np.zeros((X.shape[1],X.shape[1]))\n",
        "\n",
        "for num in range(X.shape[1]-1):\n",
        "  # print('Now selecting the #',num,'least significant feature.')\n",
        "  for nextfeature in range(X.shape[1]):\n",
        "    if nextfeature in np.argmin(MSError_B[:num,:],axis=1):\n",
        "      continue\n",
        "    net = tf.keras.models.Sequential([\n",
        "      tf.keras.layers.Normalization(),\n",
        "      tf.keras.layers.Dense(10, input_dim=X.shape[1]-num-1, activation = 'softplus'),\n",
        "      tf.keras.layers.Dense(10, activation = 'softplus'),\n",
        "      tf.keras.layers.Dense(1, activation='sigmoid')\n",
        "      ])\n",
        "    net.compile(loss='MeanSquaredError', optimizer='adam', metrics=['MeanSquaredError'])\n",
        "    feature = np.array(list(set(range(X.shape[1]))-set(np.append(np.argmin(MSError_B[:num,:],axis=1),nextfeature))))\n",
        "    history = net.fit(X_train[:,feature], y_train, epochs=50, verbose=0, batch_size=50, validation_data=(X_val[:,feature],y_val))\n",
        "    MSError_B[num,nextfeature] = net.evaluate(X_test[:,feature], y_test,verbose=0)[0]\n",
        "    # print('Feature', feature, '. MSError = ', MSError_B[num,nextfeature])\n",
        "    AdjustedR2_B[num,nextfeature] = 1 - (MSError_B[num,nextfeature]*nytest/(nytest-(num+1)-1))/(TSSytest/(nytest-1))\n",
        "  print('Feature', np.argmin(MSError_B[:num+1,:],axis=1),\n",
        "        'MSE = ', MSError_B[num,np.argmin(MSError_B[num,:])],\n",
        "        'Adjusted R2 =', AdjustedR2_B[num,np.argmin(MSError_B[num,:])])"
      ],
      "metadata": {
        "colab": {
          "base_uri": "https://localhost:8080/"
        },
        "id": "TfN5quLeugNF",
        "outputId": "590bf629-bfac-40dd-cf80-b973019b1e1d"
      },
      "execution_count": null,
      "outputs": [
        {
          "output_type": "stream",
          "name": "stdout",
          "text": [
            "Feature [9] MSE =  0.0006097974255681038 Adjusted R2 = 0.9940705627906821\n",
            "Feature [9 4] MSE =  0.0006096090655773878 Adjusted R2 = 0.9940664488892791\n",
            "Feature [9 4 5] MSE =  0.0006546511431224644 Adjusted R2 = 0.9936216400919698\n",
            "Feature [9 4 5 8] MSE =  0.0007438044995069504 Adjusted R2 = 0.9927457227529127\n",
            "Feature [9 4 5 8 1] MSE =  0.0009681872907094657 Adjusted R2 = 0.9905478322153557\n",
            "Feature [9 4 5 8 1 3] MSE =  0.0010206218576058745 Adjusted R2 = 0.9900258924795475\n",
            "Feature [9 4 5 8 1 3 6] MSE =  0.0008246878860518336 Adjusted R2 = 0.9919325483326992\n",
            "Feature [ 9  4  5  8  1  3  6 10] MSE =  0.000820251414552331 Adjusted R2 = 0.9919678508808826\n",
            "Feature [ 9  4  5  8  1  3  6 10  7] MSE =  0.006753735709935427 Adjusted R2 = 0.9337985813472822\n",
            "Feature [ 9  4  5  8  1  3  6 10  7  0] MSE =  0.04214305430650711 Adjusted R2 = 0.5864879731837376\n"
          ]
        }
      ]
    },
    {
      "cell_type": "code",
      "source": [
        "# Save data\n",
        "np.savetxt('/content/drive/My Drive/ECE539/project2/MSError_F.csv', MSError_F, delimiter=\",\")\n",
        "np.savetxt('/content/drive/My Drive/ECE539/project2/AdjustedR2_F.csv', AdjustedR2_F, delimiter=\",\")\n",
        "np.savetxt('/content/drive/My Drive/ECE539/project2/MSError_B.csv', MSError_B, delimiter=\",\")\n",
        "np.savetxt('/content/drive/My Drive/ECE539/project2/AdjustedR2_B.csv', AdjustedR2_B, delimiter=\",\")"
      ],
      "metadata": {
        "id": "CaSvyTd5CXj1"
      },
      "execution_count": null,
      "outputs": []
    },
    {
      "cell_type": "markdown",
      "source": [
        "Compare two forward and backward stepwise:"
      ],
      "metadata": {
        "id": "j_V-X_rXCIO3"
      }
    },
    {
      "cell_type": "code",
      "source": [
        "back1 = np.array(list(set(range(X.shape[1]))-set(np.argmin(MSError_B[:-1,:],axis=1))))\n",
        "for num in range(1,X.shape[1]):\n",
        "  print(num,'predictor(s)')\n",
        "  print('Forward:',np.argmin(MSError_F[:num,:],axis=1))\n",
        "  print('Backward:',np.concatenate((back1,np.flip(np.argmin(MSError_B[X.shape[1]-num:-1,:],axis=1)))))"
      ],
      "metadata": {
        "colab": {
          "base_uri": "https://localhost:8080/"
        },
        "id": "HtF4tnwdCxgl",
        "outputId": "3d3c79f0-464a-4809-e4c6-7ac94c03a446"
      },
      "execution_count": null,
      "outputs": [
        {
          "output_type": "stream",
          "name": "stdout",
          "text": [
            "1 predictor(s)\n",
            "Forward: [2]\n",
            "Backward: [2]\n",
            "2 predictor(s)\n",
            "Forward: [2 0]\n",
            "Backward: [2 0]\n",
            "3 predictor(s)\n",
            "Forward: [2 0 1]\n",
            "Backward: [2 0 7]\n",
            "4 predictor(s)\n",
            "Forward: [2 0 1 8]\n",
            "Backward: [ 2  0  7 10]\n",
            "5 predictor(s)\n",
            "Forward: [2 0 1 8 5]\n",
            "Backward: [ 2  0  7 10  6]\n",
            "6 predictor(s)\n",
            "Forward: [ 2  0  1  8  5 10]\n",
            "Backward: [ 2  0  7 10  6  3]\n",
            "7 predictor(s)\n",
            "Forward: [ 2  0  1  8  5 10  7]\n",
            "Backward: [ 2  0  7 10  6  3  1]\n",
            "8 predictor(s)\n",
            "Forward: [ 2  0  1  8  5 10  7  4]\n",
            "Backward: [ 2  0  7 10  6  3  1  8]\n",
            "9 predictor(s)\n",
            "Forward: [ 2  0  1  8  5 10  7  4  6]\n",
            "Backward: [ 2  0  7 10  6  3  1  8  5]\n",
            "10 predictor(s)\n",
            "Forward: [ 2  0  1  8  5 10  7  4  6  9]\n",
            "Backward: [ 2  0  7 10  6  3  1  8  5  4]\n"
          ]
        }
      ]
    },
    {
      "cell_type": "markdown",
      "source": [
        "Dongzheng Chen’s previous theoretical studies on this electronic problem indicate that Features [0,1,2] are the three major features.\n",
        "Such result is consistent with the three most impactful features resulted from forward stepwise selection.\n",
        "The two most impact features resulted from forward and backward stepwise selection methods -- [2,0], which is a subset of the results from Dongzheng Chen's previous study."
      ],
      "metadata": {
        "id": "y2cotdnAJyVu"
      }
    },
    {
      "cell_type": "markdown",
      "source": [
        "Plot mean squared error and adjusted R-squared versus number of predictors."
      ],
      "metadata": {
        "id": "J3RY5mAjwtHt"
      }
    },
    {
      "cell_type": "code",
      "source": [
        "MAMA = np.zeros((4,X.shape[1]))\n",
        "for num in range(X.shape[1]-1):\n",
        "  MAMA[0,num] = MSError_F[num,np.argmin(MSError_F[num,:])]\n",
        "  MAMA[1,num] = AdjustedR2_F[num,np.argmin(MSError_F[num,:])]\n",
        "  MAMA[2,num] = MSError_B[X.shape[1]-2-num,np.argmin(MSError_B[X.shape[1]-2-num,:])]\n",
        "  MAMA[3,num] = AdjustedR2_B[X.shape[1]-2-num,np.argmin(MSError_B[X.shape[1]-2-num,:])]\n",
        "MAMA[0,-1] = MSError\n",
        "MAMA[1,-1] = AdjustedR2\n",
        "MAMA[2,-1] = MSError\n",
        "MAMA[3,-1] = AdjustedR2\n",
        "\n",
        "import matplotlib.pyplot as plt\n",
        "\n",
        "fig, axs = plt.subplots(2, 1)\n",
        "axs[0].plot(list(range(1,X.shape[1]+1)), MAMA[0], label='Forward')\n",
        "axs[0].plot(list(range(1,X.shape[1]+1)), MAMA[2], label='Backward')\n",
        "axs[0].set_xlabel('Number of Predictors')\n",
        "axs[0].set_ylabel('Mean squared error')\n",
        "axs[0].legend()\n",
        "\n",
        "axs[1].plot(list(range(1,X.shape[1]+1)), MAMA[1], label='Forward')\n",
        "axs[1].plot(list(range(1,X.shape[1]+1)), MAMA[3], label='Backward')\n",
        "axs[1].set_xlabel('Number of Predictors')\n",
        "axs[1].set_ylabel('Adjusted R-squared')\n",
        "axs[1].legend()\n",
        "fig.savefig('/content/drive/My Drive/ECE539/project2/FvsB.pdf')"
      ],
      "metadata": {
        "colab": {
          "base_uri": "https://localhost:8080/",
          "height": 279
        },
        "id": "uKttqoV-CHM4",
        "outputId": "820357bc-4f84-408d-ef92-cafa24168bf4"
      },
      "execution_count": null,
      "outputs": [
        {
          "output_type": "display_data",
          "data": {
            "text/plain": [
              "<Figure size 432x288 with 2 Axes>"
            ],
            "image/png": "[encoded data removed]"
          },
          "metadata": {
            "needs_background": "light"
          }
        }
      ]
    },
    {
      "cell_type": "code",
      "source": [
        "fig, axs = plt.subplots(2, 1)\n",
        "axs[0].plot(list(range(1,X.shape[1]+1)), MAMA[0], label='Forward')\n",
        "axs[0].plot(list(range(1,X.shape[1]+1)), MAMA[2], label='Backward')\n",
        "axs[0].set_xlabel('Number of Predictors')\n",
        "axs[0].set_ylabel('Mean squared error')\n",
        "axs[0].set_ylim(0,0.002)\n",
        "axs[0].legend()\n",
        "\n",
        "axs[1].plot(list(range(1,X.shape[1]+1)), MAMA[1], label='Forward')\n",
        "axs[1].plot(list(range(1,X.shape[1]+1)), MAMA[3], label='Backward')\n",
        "axs[1].set_xlabel('Number of Predictors')\n",
        "axs[1].set_ylabel('Adjusted R-squared')\n",
        "axs[1].set_ylim(0.98,1)\n",
        "axs[1].legend()\n",
        "fig.savefig('/content/drive/My Drive/ECE539/project2/FvsBzoom.pdf')"
      ],
      "metadata": {
        "colab": {
          "base_uri": "https://localhost:8080/",
          "height": 283
        },
        "id": "7AHyCUUlJetI",
        "outputId": "6157711d-d3f6-436f-a691-18971398b3b8"
      },
      "execution_count": null,
      "outputs": [
        {
          "output_type": "display_data",
          "data": {
            "text/plain": [
              "<Figure size 432x288 with 2 Axes>"
            ],
            "image/png": "[encoded data removed]"
          },
          "metadata": {
            "needs_background": "light"
          }
        }
      ]
    },
    {
      "cell_type": "markdown",
      "source": [
        "Except for results of number of predictors $\\geq8$, the forward stepwise selection has better performance than the backward stepwise selection, with smaller mean squared error and larger adjusted R-squared."
      ],
      "metadata": {
        "id": "NZwwm6gUuQpW"
      }
    },
    {
      "cell_type": "code",
      "source": [
        "print('In the forward stepwise selection,',np.argmax(MAMA[1,:])+1,\n",
        "      'predictors lead to largest value of adjusted R-squared, which is',MAMA[1,np.argmax(MAMA[1,:])])\n",
        "print('The features are',np.argmin(MSError_F[:np.argmax(MAMA[1,:])+1,:],axis=1))"
      ],
      "metadata": {
        "colab": {
          "base_uri": "https://localhost:8080/"
        },
        "id": "dZAmm266KpjG",
        "outputId": "468d4403-aa59-4a67-c1e0-19616cfcbc73"
      },
      "execution_count": null,
      "outputs": [
        {
          "output_type": "stream",
          "name": "stdout",
          "text": [
            "In the forward stepwise selection, 4 predictors lead to largest value of adjusted R-squared, which is 0.9942880471272133\n",
            "The features are [2 0 1 8]\n"
          ]
        }
      ]
    }
  ]
}